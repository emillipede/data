{
 "cells": [
  {
   "cell_type": "markdown",
   "metadata": {},
   "source": [
    "## How often has @realDonaldTrump been 'sorry' on Twitter?"
   ]
  },
  {
   "cell_type": "code",
   "execution_count": 10,
   "metadata": {},
   "outputs": [
    {
     "data": {
      "text/plain": [
       "ThemeRegistry.enable('latimes')"
      ]
     },
     "execution_count": 10,
     "metadata": {},
     "output_type": "execute_result"
    }
   ],
   "source": [
    "import altair as alt\n",
    "import pandas as pd\n",
    "import psycopg2 as pg\n",
    "import matplotlib as mpl\n",
    "import numpy as np\n",
    "import json\n",
    "import altair_latimes as lat\n",
    "alt.renderers.enable('notebook')\n",
    "alt.themes.register('latimes', lat.theme)\n",
    "alt.themes.enable('latimes')"
   ]
  },
  {
   "cell_type": "markdown",
   "metadata": {},
   "source": [
    "### Local url for @realDonaldTrump scraped data: 2012 - Aug. 2019"
   ]
  },
  {
   "cell_type": "code",
   "execution_count": 11,
   "metadata": {},
   "outputs": [],
   "source": [
    "url = '/Users/mhustiles/Desktop/github/data/trump-tweet-frequency/trump_archive.json'"
   ]
  },
  {
   "cell_type": "markdown",
   "metadata": {},
   "source": [
    "### Local url for @realDonaldTrump data, update for 8/13/19"
   ]
  },
  {
   "cell_type": "code",
   "execution_count": 12,
   "metadata": {},
   "outputs": [],
   "source": [
    "urladd = '/Users/mhustiles/Desktop/github/data/trump-tweet-frequency/trump_update.json'\n",
    "urladd = '/Users/mhustiles/Desktop/github/data/trump-tweet-frequency/trump_update_20190818.json'"
   ]
  },
  {
   "cell_type": "markdown",
   "metadata": {},
   "source": [
    "### Read data, concatenate, remove duplicate tweets from update"
   ]
  },
  {
   "cell_type": "code",
   "execution_count": 13,
   "metadata": {},
   "outputs": [],
   "source": [
    "trumptweets = pd.read_json(url, orient='columns', lines=True)\n",
    "trumptweetsnu = pd.read_json(urladd, orient='columns', lines=True)\n",
    "trumpall = pd.concat([trumptweets, trumptweetsnu]).drop_duplicates('id').sort_values(['created_at'], ascending=False)"
   ]
  },
  {
   "cell_type": "markdown",
   "metadata": {},
   "source": [
    "### Clean up data types in scraped data"
   ]
  },
  {
   "cell_type": "code",
   "execution_count": 14,
   "metadata": {},
   "outputs": [],
   "source": [
    "trumpall['retweet'] = trumpall['retweet'].astype(str)\n",
    "trumpall['video'] = trumpall['video'].astype(str)\n",
    "trumpall['user_id'] = trumpall['user_id'].astype(str)\n",
    "trumpall['user_id'] = trumpall['user_id'].astype(str)\n",
    "trumpall['id'] = trumpall['id'].astype(str)\n",
    "trumpall['conversation_id'] = trumpall['conversation_id'].astype(str)"
   ]
  },
  {
   "cell_type": "markdown",
   "metadata": {},
   "source": [
    "### Add columns parsing dates to dataframe"
   ]
  },
  {
   "cell_type": "code",
   "execution_count": 15,
   "metadata": {},
   "outputs": [],
   "source": [
    "trumpall['year'] = trumpall['date'].dt.year\n",
    "trumpall['month'] = trumpall['date'].dt.month\n",
    "trumpall['day'] = trumpall['date'].dt.day"
   ]
  },
  {
   "cell_type": "markdown",
   "metadata": {},
   "source": [
    "### Get GMT time"
   ]
  },
  {
   "cell_type": "code",
   "execution_count": 16,
   "metadata": {},
   "outputs": [],
   "source": [
    "trumpall['hour_gmt'] = trumpall['created_at'].dt.hour"
   ]
  },
  {
   "cell_type": "markdown",
   "metadata": {},
   "source": [
    "### Clean them up"
   ]
  },
  {
   "cell_type": "code",
   "execution_count": 17,
   "metadata": {},
   "outputs": [],
   "source": [
    "trumpall['year'] = trumpall['year'].astype(str)\n",
    "trumpall['month'] = trumpall['month'].astype(str)\n",
    "trumpall['day'] = trumpall['day'].astype(str)\n",
    "trumpall['hour_gmt'] = trumpall['hour_gmt'].astype(str)"
   ]
  },
  {
   "cell_type": "code",
   "execution_count": 19,
   "metadata": {},
   "outputs": [],
   "source": [
    "sorry = trumpall[trumpall['tweet'].str.contains(\"sorry\")]"
   ]
  },
  {
   "cell_type": "code",
   "execution_count": null,
   "metadata": {},
   "outputs": [],
   "source": []
  }
 ],
 "metadata": {
  "kernelspec": {
   "display_name": "Python 3",
   "language": "python",
   "name": "python3"
  },
  "language_info": {
   "codemirror_mode": {
    "name": "ipython",
    "version": 3
   },
   "file_extension": ".py",
   "mimetype": "text/x-python",
   "name": "python",
   "nbconvert_exporter": "python",
   "pygments_lexer": "ipython3",
   "version": "3.6.3rc1"
  }
 },
 "nbformat": 4,
 "nbformat_minor": 2
}
