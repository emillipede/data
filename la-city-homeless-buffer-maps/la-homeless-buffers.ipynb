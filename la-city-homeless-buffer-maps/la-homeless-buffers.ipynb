{
 "cells": [
  {
   "cell_type": "markdown",
   "metadata": {},
   "source": [
    "# Analyzing the effect of proposed homeless sleeping limits in Los Angeles"
   ]
  },
  {
   "cell_type": "markdown",
   "metadata": {},
   "source": [
    "By [Matt Stiles](https://www.latimes.com/la-bio-matt-stiles-staff.html) and [Ryan Menezes](https://www.latimes.com/staff/ryan-menezes)"
   ]
  },
  {
   "cell_type": "markdown",
   "metadata": {},
   "source": [
    "This notebook documents the process of examining the effects of proposed sleeping restriction on the homeless population in Los Angeles. The proposed city rules would limit sleeping in 500-foot buffer zones around selected property types, including schools, parks and childcare facilities, among others. This analysis draws those buffer zones around the properties, which are identified in government mapping data, and calculates the area included in the limits citywide and by neighborhood.  "
   ]
  },
  {
   "cell_type": "markdown",
   "metadata": {},
   "source": [
    "### Load libraries"
   ]
  },
  {
   "cell_type": "code",
   "execution_count": 1,
   "metadata": {},
   "outputs": [],
   "source": [
    "import pandas as pd\n",
    "import geopandas as gpd\n",
    "import matplotlib.pyplot as plt\n",
    "from pandas import DataFrame\n",
    "%matplotlib inline"
   ]
  },
  {
   "cell_type": "markdown",
   "metadata": {},
   "source": [
    "### Read raw data from city, county GIS portals"
   ]
  },
  {
   "cell_type": "code",
   "execution_count": 2,
   "metadata": {},
   "outputs": [],
   "source": [
    "rawfiles = {\n",
    "    # childcare spatial file uses points to avoid assigning single-location facilities to multi-location parcels\n",
    "    # bikeways not included because they don't need to be buffered\n",
    "    # 'bikeways': 'raw/la_city_bikeways.geojson',\n",
    "    # homeless shelters excluded until recent locations file acquired\n",
    "    #'homeless': 'raw/la_county_gis_homeless_shelters_1566703407847.geojson',\n",
    "    #'childcare': 'raw/la_city_gis_childcare_clipped.geojson',\n",
    "    'parks': 'raw/la_city_county_parks.geojson',\n",
    "    'public_schools': 'raw/lausd_schools_boundaries_1566703408821.geojson',\n",
    "    'private_schools': 'raw/la_county_private_school_parcels.geojson',\n",
    "    'special_venues': 'raw/la_city_special_venues.geojson'\n",
    "}"
   ]
  },
  {
   "cell_type": "markdown",
   "metadata": {},
   "source": [
    "### Reproject spatial data for distance calculations"
   ]
  },
  {
   "cell_type": "code",
   "execution_count": 3,
   "metadata": {},
   "outputs": [],
   "source": [
    "def reproject(i, o, c = 3310):\n",
    "    return f'ogr2ogr processed/{o}_{c}.geojson -t_srs \"EPSG:3310\" {i}'"
   ]
  },
  {
   "cell_type": "code",
   "execution_count": 4,
   "metadata": {},
   "outputs": [
    {
     "name": "stdout",
     "output_type": "stream",
     "text": [
      "ogr2ogr processed/parks_3310.geojson -t_srs \"EPSG:3310\" raw/la_city_county_parks.geojson\n",
      "ogr2ogr processed/public_schools_3310.geojson -t_srs \"EPSG:3310\" raw/lausd_schools_boundaries_1566703408821.geojson\n",
      "ogr2ogr processed/private_schools_3310.geojson -t_srs \"EPSG:3310\" raw/la_county_private_school_parcels.geojson\n",
      "ogr2ogr processed/special_venues_3310.geojson -t_srs \"EPSG:3310\" raw/la_city_special_venues.geojson\n"
     ]
    }
   ],
   "source": [
    "for r in rawfiles:\n",
    "    s = reproject(rawfiles[r], r)\n",
    "    print(s)\n",
    "    !$s"
   ]
  },
  {
   "cell_type": "markdown",
   "metadata": {},
   "source": [
    "### Dataframes from city, county spatial files"
   ]
  },
  {
   "cell_type": "markdown",
   "metadata": {},
   "source": []
  },
  {
   "cell_type": "code",
   "execution_count": 5,
   "metadata": {},
   "outputs": [
    {
     "name": "stderr",
     "output_type": "stream",
     "text": [
      "/Users/mhustiles/.virtualenvs/twitter/lib/python3.6/site-packages/ipykernel_launcher.py:1: FutureWarning: Sorting because non-concatenation axis is not aligned. A future version\n",
      "of pandas will change to not sort by default.\n",
      "\n",
      "To accept the future behavior, pass 'sort=False'.\n",
      "\n",
      "To retain the current behavior and silence the warning, pass 'sort=True'.\n",
      "\n",
      "  \"\"\"Entry point for launching an IPython kernel.\n"
     ]
    }
   ],
   "source": [
    "alldata = pd.concat([gpd.read_file(f'processed/{r}_3310.geojson') for r in rawfiles])[['geometry']]"
   ]
  },
  {
   "cell_type": "code",
   "execution_count": 6,
   "metadata": {},
   "outputs": [
    {
     "data": {
      "text/plain": [
       "{'init': 'epsg:3310'}"
      ]
     },
     "execution_count": 6,
     "metadata": {},
     "output_type": "execute_result"
    }
   ],
   "source": [
    "alldata.crs"
   ]
  },
  {
   "cell_type": "code",
   "execution_count": 7,
   "metadata": {},
   "outputs": [
    {
     "data": {
      "text/html": [
       "<div>\n",
       "<style scoped>\n",
       "    .dataframe tbody tr th:only-of-type {\n",
       "        vertical-align: middle;\n",
       "    }\n",
       "\n",
       "    .dataframe tbody tr th {\n",
       "        vertical-align: top;\n",
       "    }\n",
       "\n",
       "    .dataframe thead th {\n",
       "        text-align: right;\n",
       "    }\n",
       "</style>\n",
       "<table border=\"1\" class=\"dataframe\">\n",
       "  <thead>\n",
       "    <tr style=\"text-align: right;\">\n",
       "      <th></th>\n",
       "      <th>geometry</th>\n",
       "    </tr>\n",
       "  </thead>\n",
       "  <tbody>\n",
       "    <tr>\n",
       "      <th>0</th>\n",
       "      <td>(POLYGON ((122823.8289196924 -423249.495809571...</td>\n",
       "    </tr>\n",
       "    <tr>\n",
       "      <th>1</th>\n",
       "      <td>(POLYGON ((152236.865777088 -430354.063503935,...</td>\n",
       "    </tr>\n",
       "    <tr>\n",
       "      <th>2</th>\n",
       "      <td>(POLYGON ((169001.7230519725 -433641.408542999...</td>\n",
       "    </tr>\n",
       "    <tr>\n",
       "      <th>3</th>\n",
       "      <td>(POLYGON ((167906.8319679031 -436161.166651908...</td>\n",
       "    </tr>\n",
       "    <tr>\n",
       "      <th>4</th>\n",
       "      <td>(POLYGON ((162086.0724620686 -445826.999724519...</td>\n",
       "    </tr>\n",
       "  </tbody>\n",
       "</table>\n",
       "</div>"
      ],
      "text/plain": [
       "                                            geometry\n",
       "0  (POLYGON ((122823.8289196924 -423249.495809571...\n",
       "1  (POLYGON ((152236.865777088 -430354.063503935,...\n",
       "2  (POLYGON ((169001.7230519725 -433641.408542999...\n",
       "3  (POLYGON ((167906.8319679031 -436161.166651908...\n",
       "4  (POLYGON ((162086.0724620686 -445826.999724519..."
      ]
     },
     "execution_count": 7,
     "metadata": {},
     "output_type": "execute_result"
    }
   ],
   "source": [
    "alldata.head()"
   ]
  },
  {
   "cell_type": "code",
   "execution_count": 8,
   "metadata": {},
   "outputs": [
    {
     "data": {
      "text/plain": [
       "<matplotlib.axes._subplots.AxesSubplot at 0x124e28e10>"
      ]
     },
     "execution_count": 8,
     "metadata": {},
     "output_type": "execute_result"
    },
    {
     "data": {
      "image/png": "[encoded data removed]",
      "text/plain": [
       "<Figure size 432x288 with 1 Axes>"
      ]
     },
     "metadata": {
      "needs_background": "light"
     },
     "output_type": "display_data"
    }
   ],
   "source": [
    "alldata.plot()"
   ]
  },
  {
   "cell_type": "code",
   "execution_count": 9,
   "metadata": {},
   "outputs": [],
   "source": [
    "alldata['buffer'] = alldata.buffer(152.4)"
   ]
  },
  {
   "cell_type": "code",
   "execution_count": 10,
   "metadata": {},
   "outputs": [
    {
     "data": {
      "text/plain": [
       "<matplotlib.axes._subplots.AxesSubplot at 0x124ed7668>"
      ]
     },
     "execution_count": 10,
     "metadata": {},
     "output_type": "execute_result"
    },
    {
     "data": {
      "image/png": "[encoded data removed]",
      "text/plain": [
       "<Figure size 432x288 with 1 Axes>"
      ]
     },
     "metadata": {
      "needs_background": "light"
     },
     "output_type": "display_data"
    }
   ],
   "source": [
    "gpd.GeoSeries(alldata['buffer']).plot()"
   ]
  },
  {
   "cell_type": "code",
   "execution_count": 11,
   "metadata": {},
   "outputs": [],
   "source": [
    "alldata['dummy'] = 'abc'"
   ]
  },
  {
   "cell_type": "code",
   "execution_count": 12,
   "metadata": {},
   "outputs": [
    {
     "data": {
      "text/html": [
       "<div>\n",
       "<style scoped>\n",
       "    .dataframe tbody tr th:only-of-type {\n",
       "        vertical-align: middle;\n",
       "    }\n",
       "\n",
       "    .dataframe tbody tr th {\n",
       "        vertical-align: top;\n",
       "    }\n",
       "\n",
       "    .dataframe thead th {\n",
       "        text-align: right;\n",
       "    }\n",
       "</style>\n",
       "<table border=\"1\" class=\"dataframe\">\n",
       "  <thead>\n",
       "    <tr style=\"text-align: right;\">\n",
       "      <th></th>\n",
       "      <th>geometry</th>\n",
       "      <th>buffer</th>\n",
       "      <th>dummy</th>\n",
       "    </tr>\n",
       "  </thead>\n",
       "  <tbody>\n",
       "    <tr>\n",
       "      <th>0</th>\n",
       "      <td>(POLYGON ((122823.8289196924 -423249.495809571...</td>\n",
       "      <td>POLYGON ((122592.0537146879 -423609.0409239699...</td>\n",
       "      <td>abc</td>\n",
       "    </tr>\n",
       "    <tr>\n",
       "      <th>1</th>\n",
       "      <td>(POLYGON ((152236.865777088 -430354.063503935,...</td>\n",
       "      <td>POLYGON ((152356.4358221815 -430259.571365022,...</td>\n",
       "      <td>abc</td>\n",
       "    </tr>\n",
       "    <tr>\n",
       "      <th>2</th>\n",
       "      <td>(POLYGON ((169001.7230519725 -433641.408542999...</td>\n",
       "      <td>POLYGON ((168891.9611280263 -433877.2413315298...</td>\n",
       "      <td>abc</td>\n",
       "    </tr>\n",
       "    <tr>\n",
       "      <th>3</th>\n",
       "      <td>(POLYGON ((167906.8319679031 -436161.166651908...</td>\n",
       "      <td>POLYGON ((167910.358890932 -436313.525919527, ...</td>\n",
       "      <td>abc</td>\n",
       "    </tr>\n",
       "    <tr>\n",
       "      <th>4</th>\n",
       "      <td>(POLYGON ((162086.0724620686 -445826.999724519...</td>\n",
       "      <td>POLYGON ((162238.423079556 -445823.1203751916,...</td>\n",
       "      <td>abc</td>\n",
       "    </tr>\n",
       "  </tbody>\n",
       "</table>\n",
       "</div>"
      ],
      "text/plain": [
       "                                            geometry  \\\n",
       "0  (POLYGON ((122823.8289196924 -423249.495809571...   \n",
       "1  (POLYGON ((152236.865777088 -430354.063503935,...   \n",
       "2  (POLYGON ((169001.7230519725 -433641.408542999...   \n",
       "3  (POLYGON ((167906.8319679031 -436161.166651908...   \n",
       "4  (POLYGON ((162086.0724620686 -445826.999724519...   \n",
       "\n",
       "                                              buffer dummy  \n",
       "0  POLYGON ((122592.0537146879 -423609.0409239699...   abc  \n",
       "1  POLYGON ((152356.4358221815 -430259.571365022,...   abc  \n",
       "2  POLYGON ((168891.9611280263 -433877.2413315298...   abc  \n",
       "3  POLYGON ((167910.358890932 -436313.525919527, ...   abc  \n",
       "4  POLYGON ((162238.423079556 -445823.1203751916,...   abc  "
      ]
     },
     "execution_count": 12,
     "metadata": {},
     "output_type": "execute_result"
    }
   ],
   "source": [
    "alldata.head()"
   ]
  },
  {
   "cell_type": "code",
   "execution_count": 13,
   "metadata": {},
   "outputs": [],
   "source": [
    "allbuffers = gpd.GeoDataFrame(alldata[['dummy','buffer']], geometry='buffer').dissolve(by = 'dummy')"
   ]
  },
  {
   "cell_type": "code",
   "execution_count": 14,
   "metadata": {},
   "outputs": [
    {
     "data": {
      "text/html": [
       "<div>\n",
       "<style scoped>\n",
       "    .dataframe tbody tr th:only-of-type {\n",
       "        vertical-align: middle;\n",
       "    }\n",
       "\n",
       "    .dataframe tbody tr th {\n",
       "        vertical-align: top;\n",
       "    }\n",
       "\n",
       "    .dataframe thead th {\n",
       "        text-align: right;\n",
       "    }\n",
       "</style>\n",
       "<table border=\"1\" class=\"dataframe\">\n",
       "  <thead>\n",
       "    <tr style=\"text-align: right;\">\n",
       "      <th></th>\n",
       "      <th>buffer</th>\n",
       "    </tr>\n",
       "    <tr>\n",
       "      <th>dummy</th>\n",
       "      <th></th>\n",
       "    </tr>\n",
       "  </thead>\n",
       "  <tbody>\n",
       "    <tr>\n",
       "      <th>abc</th>\n",
       "      <td>(POLYGON ((159046.1005152024 -474657.636135023...</td>\n",
       "    </tr>\n",
       "  </tbody>\n",
       "</table>\n",
       "</div>"
      ],
      "text/plain": [
       "                                                  buffer\n",
       "dummy                                                   \n",
       "abc    (POLYGON ((159046.1005152024 -474657.636135023..."
      ]
     },
     "execution_count": 14,
     "metadata": {},
     "output_type": "execute_result"
    }
   ],
   "source": [
    "allbuffers"
   ]
  },
  {
   "cell_type": "code",
   "execution_count": 15,
   "metadata": {},
   "outputs": [
    {
     "data": {
      "text/plain": [
       "<matplotlib.axes._subplots.AxesSubplot at 0x124ee77f0>"
      ]
     },
     "execution_count": 15,
     "metadata": {},
     "output_type": "execute_result"
    },
    {
     "data": {
      "image/png": "[encoded data removed]",
      "text/plain": [
       "<Figure size 432x288 with 1 Axes>"
      ]
     },
     "metadata": {
      "needs_background": "light"
     },
     "output_type": "display_data"
    }
   ],
   "source": [
    "allbuffers.plot()"
   ]
  },
  {
   "cell_type": "code",
   "execution_count": 16,
   "metadata": {},
   "outputs": [],
   "source": [
    "allbuffers.to_file('buffered/combined-buffers.geojson', driver='GeoJSON')"
   ]
  },
  {
   "cell_type": "code",
   "execution_count": 17,
   "metadata": {},
   "outputs": [],
   "source": [
    "allbuffers.crs"
   ]
  },
  {
   "cell_type": "code",
   "execution_count": 18,
   "metadata": {},
   "outputs": [
    {
     "data": {
      "text/plain": [
       "dummy\n",
       "abc    216.028324\n",
       "dtype: float64"
      ]
     },
     "execution_count": 18,
     "metadata": {},
     "output_type": "execute_result"
    }
   ],
   "source": [
    "allbuffers.geometry.area  / 2590000"
   ]
  },
  {
   "cell_type": "code",
   "execution_count": 19,
   "metadata": {},
   "outputs": [],
   "source": [
    "hoods = gpd.read_file('raw/la-county-neighborhoods-current.geojson')"
   ]
  },
  {
   "cell_type": "code",
   "execution_count": 20,
   "metadata": {},
   "outputs": [],
   "source": [
    "hoods['hood_type'] = hoods['metadata'].apply(dict).apply(lambda x: x['type'])"
   ]
  },
  {
   "cell_type": "code",
   "execution_count": 21,
   "metadata": {},
   "outputs": [],
   "source": [
    "hoods.to_crs({'init': 'epsg:3310'}, inplace=True)"
   ]
  },
  {
   "cell_type": "code",
   "execution_count": 22,
   "metadata": {},
   "outputs": [],
   "source": [
    "hoods.to_file('processed/hoods_3310.geojson', driver='GeoJSON')"
   ]
  },
  {
   "cell_type": "code",
   "execution_count": 23,
   "metadata": {},
   "outputs": [
    {
     "data": {
      "text/html": [
       "<div>\n",
       "<style scoped>\n",
       "    .dataframe tbody tr th:only-of-type {\n",
       "        vertical-align: middle;\n",
       "    }\n",
       "\n",
       "    .dataframe tbody tr th {\n",
       "        vertical-align: top;\n",
       "    }\n",
       "\n",
       "    .dataframe thead th {\n",
       "        text-align: right;\n",
       "    }\n",
       "</style>\n",
       "<table border=\"1\" class=\"dataframe\">\n",
       "  <thead>\n",
       "    <tr style=\"text-align: right;\">\n",
       "      <th></th>\n",
       "      <th>kind</th>\n",
       "      <th>external_id</th>\n",
       "      <th>name</th>\n",
       "      <th>slug</th>\n",
       "      <th>set</th>\n",
       "      <th>metadata</th>\n",
       "      <th>resource_uri</th>\n",
       "      <th>geometry</th>\n",
       "      <th>hood_type</th>\n",
       "    </tr>\n",
       "  </thead>\n",
       "  <tbody>\n",
       "    <tr>\n",
       "      <th>0</th>\n",
       "      <td>L.A. County Neighborhood (Current)</td>\n",
       "      <td>acton</td>\n",
       "      <td>Acton</td>\n",
       "      <td>acton-la-county-neighborhood-current</td>\n",
       "      <td>/1.0/boundary-set/la-county-neighborhoods-curr...</td>\n",
       "      <td>{'sqmi': 39.3391089485, 'type': 'unincorporate...</td>\n",
       "      <td>/1.0/boundary/acton-la-county-neighborhood-cur...</td>\n",
       "      <td>(POLYGON ((164907.1721133307 -384800.650005886...</td>\n",
       "      <td>unincorporated-area</td>\n",
       "    </tr>\n",
       "    <tr>\n",
       "      <th>1</th>\n",
       "      <td>L.A. County Neighborhood (Current)</td>\n",
       "      <td>adams-normandie</td>\n",
       "      <td>Adams-Normandie</td>\n",
       "      <td>adams-normandie-la-county-neighborhood-current</td>\n",
       "      <td>/1.0/boundary-set/la-county-neighborhoods-curr...</td>\n",
       "      <td>{'sqmi': 0.805350187789, 'type': 'segment-of-a...</td>\n",
       "      <td>/1.0/boundary/adams-normandie-la-county-neighb...</td>\n",
       "      <td>(POLYGON ((156139.6401248095 -440624.691527145...</td>\n",
       "      <td>segment-of-a-city</td>\n",
       "    </tr>\n",
       "    <tr>\n",
       "      <th>2</th>\n",
       "      <td>L.A. County Neighborhood (Current)</td>\n",
       "      <td>agoura-hills</td>\n",
       "      <td>Agoura Hills</td>\n",
       "      <td>agoura-hills-la-county-neighborhood-current</td>\n",
       "      <td>/1.0/boundary-set/la-county-neighborhoods-curr...</td>\n",
       "      <td>{'sqmi': 8.14676029818, 'type': 'standalone-ci...</td>\n",
       "      <td>/1.0/boundary/agoura-hills-la-county-neighborh...</td>\n",
       "      <td>(POLYGON ((114132.3855756644 -426762.559576650...</td>\n",
       "      <td>standalone-city</td>\n",
       "    </tr>\n",
       "    <tr>\n",
       "      <th>3</th>\n",
       "      <td>L.A. County Neighborhood (Current)</td>\n",
       "      <td>agua-dulce</td>\n",
       "      <td>Agua Dulce</td>\n",
       "      <td>agua-dulce-la-county-neighborhood-current</td>\n",
       "      <td>/1.0/boundary-set/la-county-neighborhoods-curr...</td>\n",
       "      <td>{'sqmi': 31.4626319451, 'type': 'unincorporate...</td>\n",
       "      <td>/1.0/boundary/agua-dulce-la-county-neighborhoo...</td>\n",
       "      <td>(POLYGON ((160091.8405679099 -382746.646477827...</td>\n",
       "      <td>unincorporated-area</td>\n",
       "    </tr>\n",
       "    <tr>\n",
       "      <th>4</th>\n",
       "      <td>L.A. County Neighborhood (Current)</td>\n",
       "      <td>alhambra</td>\n",
       "      <td>Alhambra</td>\n",
       "      <td>alhambra-la-county-neighborhood-current</td>\n",
       "      <td>/1.0/boundary-set/la-county-neighborhoods-curr...</td>\n",
       "      <td>{'sqmi': 7.62381430605, 'type': 'standalone-ci...</td>\n",
       "      <td>/1.0/boundary/alhambra-la-county-neighborhood-...</td>\n",
       "      <td>(POLYGON ((173279.8293033192 -432798.533470016...</td>\n",
       "      <td>standalone-city</td>\n",
       "    </tr>\n",
       "  </tbody>\n",
       "</table>\n",
       "</div>"
      ],
      "text/plain": [
       "                                 kind      external_id             name  \\\n",
       "0  L.A. County Neighborhood (Current)            acton            Acton   \n",
       "1  L.A. County Neighborhood (Current)  adams-normandie  Adams-Normandie   \n",
       "2  L.A. County Neighborhood (Current)     agoura-hills     Agoura Hills   \n",
       "3  L.A. County Neighborhood (Current)       agua-dulce       Agua Dulce   \n",
       "4  L.A. County Neighborhood (Current)         alhambra         Alhambra   \n",
       "\n",
       "                                             slug  \\\n",
       "0            acton-la-county-neighborhood-current   \n",
       "1  adams-normandie-la-county-neighborhood-current   \n",
       "2     agoura-hills-la-county-neighborhood-current   \n",
       "3       agua-dulce-la-county-neighborhood-current   \n",
       "4         alhambra-la-county-neighborhood-current   \n",
       "\n",
       "                                                 set  \\\n",
       "0  /1.0/boundary-set/la-county-neighborhoods-curr...   \n",
       "1  /1.0/boundary-set/la-county-neighborhoods-curr...   \n",
       "2  /1.0/boundary-set/la-county-neighborhoods-curr...   \n",
       "3  /1.0/boundary-set/la-county-neighborhoods-curr...   \n",
       "4  /1.0/boundary-set/la-county-neighborhoods-curr...   \n",
       "\n",
       "                                            metadata  \\\n",
       "0  {'sqmi': 39.3391089485, 'type': 'unincorporate...   \n",
       "1  {'sqmi': 0.805350187789, 'type': 'segment-of-a...   \n",
       "2  {'sqmi': 8.14676029818, 'type': 'standalone-ci...   \n",
       "3  {'sqmi': 31.4626319451, 'type': 'unincorporate...   \n",
       "4  {'sqmi': 7.62381430605, 'type': 'standalone-ci...   \n",
       "\n",
       "                                        resource_uri  \\\n",
       "0  /1.0/boundary/acton-la-county-neighborhood-cur...   \n",
       "1  /1.0/boundary/adams-normandie-la-county-neighb...   \n",
       "2  /1.0/boundary/agoura-hills-la-county-neighborh...   \n",
       "3  /1.0/boundary/agua-dulce-la-county-neighborhoo...   \n",
       "4  /1.0/boundary/alhambra-la-county-neighborhood-...   \n",
       "\n",
       "                                            geometry            hood_type  \n",
       "0  (POLYGON ((164907.1721133307 -384800.650005886...  unincorporated-area  \n",
       "1  (POLYGON ((156139.6401248095 -440624.691527145...    segment-of-a-city  \n",
       "2  (POLYGON ((114132.3855756644 -426762.559576650...      standalone-city  \n",
       "3  (POLYGON ((160091.8405679099 -382746.646477827...  unincorporated-area  \n",
       "4  (POLYGON ((173279.8293033192 -432798.533470016...      standalone-city  "
      ]
     },
     "execution_count": 23,
     "metadata": {},
     "output_type": "execute_result"
    }
   ],
   "source": [
    "hoods.head()"
   ]
  },
  {
   "cell_type": "code",
   "execution_count": 24,
   "metadata": {},
   "outputs": [],
   "source": [
    "lahoods = hoods.loc[hoods.hood_type == 'segment-of-a-city', ['name', 'geometry']]"
   ]
  },
  {
   "cell_type": "code",
   "execution_count": 25,
   "metadata": {},
   "outputs": [
    {
     "data": {
      "text/html": [
       "<div>\n",
       "<style scoped>\n",
       "    .dataframe tbody tr th:only-of-type {\n",
       "        vertical-align: middle;\n",
       "    }\n",
       "\n",
       "    .dataframe tbody tr th {\n",
       "        vertical-align: top;\n",
       "    }\n",
       "\n",
       "    .dataframe thead th {\n",
       "        text-align: right;\n",
       "    }\n",
       "</style>\n",
       "<table border=\"1\" class=\"dataframe\">\n",
       "  <thead>\n",
       "    <tr style=\"text-align: right;\">\n",
       "      <th></th>\n",
       "      <th>name</th>\n",
       "      <th>geometry</th>\n",
       "    </tr>\n",
       "  </thead>\n",
       "  <tbody>\n",
       "    <tr>\n",
       "      <th>1</th>\n",
       "      <td>Adams-Normandie</td>\n",
       "      <td>(POLYGON ((156139.6401248095 -440624.691527145...</td>\n",
       "    </tr>\n",
       "    <tr>\n",
       "      <th>9</th>\n",
       "      <td>Arleta</td>\n",
       "      <td>(POLYGON ((145361.3096072993 -420096.183241406...</td>\n",
       "    </tr>\n",
       "    <tr>\n",
       "      <th>10</th>\n",
       "      <td>Arlington Heights</td>\n",
       "      <td>(POLYGON ((155472.5469032949 -438950.195603739...</td>\n",
       "    </tr>\n",
       "    <tr>\n",
       "      <th>13</th>\n",
       "      <td>Atwater Village</td>\n",
       "      <td>(POLYGON ((158739.6492951899 -427752.278756475...</td>\n",
       "    </tr>\n",
       "    <tr>\n",
       "      <th>17</th>\n",
       "      <td>Baldwin Hills/Crenshaw</td>\n",
       "      <td>(POLYGON ((151801.1076706515 -442096.112350080...</td>\n",
       "    </tr>\n",
       "  </tbody>\n",
       "</table>\n",
       "</div>"
      ],
      "text/plain": [
       "                      name                                           geometry\n",
       "1          Adams-Normandie  (POLYGON ((156139.6401248095 -440624.691527145...\n",
       "9                   Arleta  (POLYGON ((145361.3096072993 -420096.183241406...\n",
       "10       Arlington Heights  (POLYGON ((155472.5469032949 -438950.195603739...\n",
       "13         Atwater Village  (POLYGON ((158739.6492951899 -427752.278756475...\n",
       "17  Baldwin Hills/Crenshaw  (POLYGON ((151801.1076706515 -442096.112350080..."
      ]
     },
     "execution_count": 25,
     "metadata": {},
     "output_type": "execute_result"
    }
   ],
   "source": [
    "lahoods.head()"
   ]
  },
  {
   "cell_type": "code",
   "execution_count": 26,
   "metadata": {},
   "outputs": [
    {
     "data": {
      "text/html": [
       "<div>\n",
       "<style scoped>\n",
       "    .dataframe tbody tr th:only-of-type {\n",
       "        vertical-align: middle;\n",
       "    }\n",
       "\n",
       "    .dataframe tbody tr th {\n",
       "        vertical-align: top;\n",
       "    }\n",
       "\n",
       "    .dataframe thead th {\n",
       "        text-align: right;\n",
       "    }\n",
       "</style>\n",
       "<table border=\"1\" class=\"dataframe\">\n",
       "  <thead>\n",
       "    <tr style=\"text-align: right;\">\n",
       "      <th></th>\n",
       "      <th>name</th>\n",
       "      <th>geometry</th>\n",
       "    </tr>\n",
       "  </thead>\n",
       "  <tbody>\n",
       "    <tr>\n",
       "      <th>1</th>\n",
       "      <td>Adams-Normandie</td>\n",
       "      <td>(POLYGON ((156139.6401248095 -440624.691527145...</td>\n",
       "    </tr>\n",
       "    <tr>\n",
       "      <th>9</th>\n",
       "      <td>Arleta</td>\n",
       "      <td>(POLYGON ((145361.3096072993 -420096.183241406...</td>\n",
       "    </tr>\n",
       "    <tr>\n",
       "      <th>10</th>\n",
       "      <td>Arlington Heights</td>\n",
       "      <td>(POLYGON ((155472.5469032949 -438950.195603739...</td>\n",
       "    </tr>\n",
       "    <tr>\n",
       "      <th>13</th>\n",
       "      <td>Atwater Village</td>\n",
       "      <td>(POLYGON ((158739.6492951899 -427752.278756475...</td>\n",
       "    </tr>\n",
       "    <tr>\n",
       "      <th>17</th>\n",
       "      <td>Baldwin Hills/Crenshaw</td>\n",
       "      <td>(POLYGON ((151801.1076706515 -442096.112350080...</td>\n",
       "    </tr>\n",
       "  </tbody>\n",
       "</table>\n",
       "</div>"
      ],
      "text/plain": [
       "                      name                                           geometry\n",
       "1          Adams-Normandie  (POLYGON ((156139.6401248095 -440624.691527145...\n",
       "9                   Arleta  (POLYGON ((145361.3096072993 -420096.183241406...\n",
       "10       Arlington Heights  (POLYGON ((155472.5469032949 -438950.195603739...\n",
       "13         Atwater Village  (POLYGON ((158739.6492951899 -427752.278756475...\n",
       "17  Baldwin Hills/Crenshaw  (POLYGON ((151801.1076706515 -442096.112350080..."
      ]
     },
     "execution_count": 26,
     "metadata": {},
     "output_type": "execute_result"
    }
   ],
   "source": [
    "lahoods.head()"
   ]
  },
  {
   "cell_type": "markdown",
   "metadata": {},
   "source": [
    "Puts the buffer shape on each line"
   ]
  },
  {
   "cell_type": "code",
   "execution_count": 27,
   "metadata": {},
   "outputs": [],
   "source": [
    "lahoods['buffers'] = lahoods['name'].apply(lambda x: allbuffers['buffer'][0])"
   ]
  },
  {
   "cell_type": "code",
   "execution_count": 28,
   "metadata": {},
   "outputs": [
    {
     "data": {
      "text/html": [
       "<div>\n",
       "<style scoped>\n",
       "    .dataframe tbody tr th:only-of-type {\n",
       "        vertical-align: middle;\n",
       "    }\n",
       "\n",
       "    .dataframe tbody tr th {\n",
       "        vertical-align: top;\n",
       "    }\n",
       "\n",
       "    .dataframe thead th {\n",
       "        text-align: right;\n",
       "    }\n",
       "</style>\n",
       "<table border=\"1\" class=\"dataframe\">\n",
       "  <thead>\n",
       "    <tr style=\"text-align: right;\">\n",
       "      <th></th>\n",
       "      <th>name</th>\n",
       "      <th>geometry</th>\n",
       "      <th>buffers</th>\n",
       "    </tr>\n",
       "  </thead>\n",
       "  <tbody>\n",
       "    <tr>\n",
       "      <th>1</th>\n",
       "      <td>Adams-Normandie</td>\n",
       "      <td>(POLYGON ((156139.6401248095 -440624.691527145...</td>\n",
       "      <td>(POLYGON ((159046.1005152024 -474657.636135023...</td>\n",
       "    </tr>\n",
       "    <tr>\n",
       "      <th>9</th>\n",
       "      <td>Arleta</td>\n",
       "      <td>(POLYGON ((145361.3096072993 -420096.183241406...</td>\n",
       "      <td>(POLYGON ((159046.1005152024 -474657.636135023...</td>\n",
       "    </tr>\n",
       "    <tr>\n",
       "      <th>10</th>\n",
       "      <td>Arlington Heights</td>\n",
       "      <td>(POLYGON ((155472.5469032949 -438950.195603739...</td>\n",
       "      <td>(POLYGON ((159046.1005152024 -474657.636135023...</td>\n",
       "    </tr>\n",
       "    <tr>\n",
       "      <th>13</th>\n",
       "      <td>Atwater Village</td>\n",
       "      <td>(POLYGON ((158739.6492951899 -427752.278756475...</td>\n",
       "      <td>(POLYGON ((159046.1005152024 -474657.636135023...</td>\n",
       "    </tr>\n",
       "    <tr>\n",
       "      <th>17</th>\n",
       "      <td>Baldwin Hills/Crenshaw</td>\n",
       "      <td>(POLYGON ((151801.1076706515 -442096.112350080...</td>\n",
       "      <td>(POLYGON ((159046.1005152024 -474657.636135023...</td>\n",
       "    </tr>\n",
       "  </tbody>\n",
       "</table>\n",
       "</div>"
      ],
      "text/plain": [
       "                      name                                           geometry  \\\n",
       "1          Adams-Normandie  (POLYGON ((156139.6401248095 -440624.691527145...   \n",
       "9                   Arleta  (POLYGON ((145361.3096072993 -420096.183241406...   \n",
       "10       Arlington Heights  (POLYGON ((155472.5469032949 -438950.195603739...   \n",
       "13         Atwater Village  (POLYGON ((158739.6492951899 -427752.278756475...   \n",
       "17  Baldwin Hills/Crenshaw  (POLYGON ((151801.1076706515 -442096.112350080...   \n",
       "\n",
       "                                              buffers  \n",
       "1   (POLYGON ((159046.1005152024 -474657.636135023...  \n",
       "9   (POLYGON ((159046.1005152024 -474657.636135023...  \n",
       "10  (POLYGON ((159046.1005152024 -474657.636135023...  \n",
       "13  (POLYGON ((159046.1005152024 -474657.636135023...  \n",
       "17  (POLYGON ((159046.1005152024 -474657.636135023...  "
      ]
     },
     "execution_count": 28,
     "metadata": {},
     "output_type": "execute_result"
    }
   ],
   "source": [
    "lahoods.head()"
   ]
  },
  {
   "cell_type": "code",
   "execution_count": 29,
   "metadata": {},
   "outputs": [
    {
     "data": {
      "text/plain": [
       "114"
      ]
     },
     "execution_count": 29,
     "metadata": {},
     "output_type": "execute_result"
    }
   ],
   "source": [
    "len(lahoods)"
   ]
  },
  {
   "cell_type": "code",
   "execution_count": 30,
   "metadata": {},
   "outputs": [],
   "source": [
    "lahoods['hits_buffer'] = lahoods.apply(lambda x: x.geometry.intersects(x.buffers), axis = 1)"
   ]
  },
  {
   "cell_type": "markdown",
   "metadata": {},
   "source": [
    "How many of the lahoods hit the buffer?"
   ]
  },
  {
   "cell_type": "code",
   "execution_count": 31,
   "metadata": {},
   "outputs": [
    {
     "data": {
      "text/plain": [
       "114"
      ]
     },
     "execution_count": 31,
     "metadata": {},
     "output_type": "execute_result"
    }
   ],
   "source": [
    "lahoods['hits_buffer'].sum()"
   ]
  },
  {
   "cell_type": "code",
   "execution_count": 32,
   "metadata": {},
   "outputs": [],
   "source": [
    "lahoods['intersection'] = lahoods.apply(lambda x: x.geometry.intersection(x.buffers), axis=1)"
   ]
  },
  {
   "cell_type": "code",
   "execution_count": 33,
   "metadata": {},
   "outputs": [
    {
     "data": {
      "text/html": [
       "<div>\n",
       "<style scoped>\n",
       "    .dataframe tbody tr th:only-of-type {\n",
       "        vertical-align: middle;\n",
       "    }\n",
       "\n",
       "    .dataframe tbody tr th {\n",
       "        vertical-align: top;\n",
       "    }\n",
       "\n",
       "    .dataframe thead th {\n",
       "        text-align: right;\n",
       "    }\n",
       "</style>\n",
       "<table border=\"1\" class=\"dataframe\">\n",
       "  <thead>\n",
       "    <tr style=\"text-align: right;\">\n",
       "      <th></th>\n",
       "      <th>name</th>\n",
       "      <th>geometry</th>\n",
       "      <th>buffers</th>\n",
       "      <th>hits_buffer</th>\n",
       "      <th>intersection</th>\n",
       "    </tr>\n",
       "  </thead>\n",
       "  <tbody>\n",
       "    <tr>\n",
       "      <th>1</th>\n",
       "      <td>Adams-Normandie</td>\n",
       "      <td>(POLYGON ((156139.6401248095 -440624.691527145...</td>\n",
       "      <td>(POLYGON ((159046.1005152024 -474657.636135023...</td>\n",
       "      <td>True</td>\n",
       "      <td>(POLYGON ((156139.6401248095 -440624.691527145...</td>\n",
       "    </tr>\n",
       "    <tr>\n",
       "      <th>9</th>\n",
       "      <td>Arleta</td>\n",
       "      <td>(POLYGON ((145361.3096072993 -420096.183241406...</td>\n",
       "      <td>(POLYGON ((159046.1005152024 -474657.636135023...</td>\n",
       "      <td>True</td>\n",
       "      <td>(POLYGON ((143859.8887858134 -419132.018329077...</td>\n",
       "    </tr>\n",
       "    <tr>\n",
       "      <th>10</th>\n",
       "      <td>Arlington Heights</td>\n",
       "      <td>(POLYGON ((155472.5469032949 -438950.195603739...</td>\n",
       "      <td>(POLYGON ((159046.1005152024 -474657.636135023...</td>\n",
       "      <td>True</td>\n",
       "      <td>(POLYGON ((155472.5469032949 -438950.195603739...</td>\n",
       "    </tr>\n",
       "    <tr>\n",
       "      <th>13</th>\n",
       "      <td>Atwater Village</td>\n",
       "      <td>(POLYGON ((158739.6492951899 -427752.278756475...</td>\n",
       "      <td>(POLYGON ((159046.1005152024 -474657.636135023...</td>\n",
       "      <td>True</td>\n",
       "      <td>(POLYGON ((159860.915891007 -429657.5653994314...</td>\n",
       "    </tr>\n",
       "    <tr>\n",
       "      <th>17</th>\n",
       "      <td>Baldwin Hills/Crenshaw</td>\n",
       "      <td>(POLYGON ((151801.1076706515 -442096.112350080...</td>\n",
       "      <td>(POLYGON ((159046.1005152024 -474657.636135023...</td>\n",
       "      <td>True</td>\n",
       "      <td>(POLYGON ((151995.0831520737 -442090.945303803...</td>\n",
       "    </tr>\n",
       "  </tbody>\n",
       "</table>\n",
       "</div>"
      ],
      "text/plain": [
       "                      name                                           geometry  \\\n",
       "1          Adams-Normandie  (POLYGON ((156139.6401248095 -440624.691527145...   \n",
       "9                   Arleta  (POLYGON ((145361.3096072993 -420096.183241406...   \n",
       "10       Arlington Heights  (POLYGON ((155472.5469032949 -438950.195603739...   \n",
       "13         Atwater Village  (POLYGON ((158739.6492951899 -427752.278756475...   \n",
       "17  Baldwin Hills/Crenshaw  (POLYGON ((151801.1076706515 -442096.112350080...   \n",
       "\n",
       "                                              buffers  hits_buffer  \\\n",
       "1   (POLYGON ((159046.1005152024 -474657.636135023...         True   \n",
       "9   (POLYGON ((159046.1005152024 -474657.636135023...         True   \n",
       "10  (POLYGON ((159046.1005152024 -474657.636135023...         True   \n",
       "13  (POLYGON ((159046.1005152024 -474657.636135023...         True   \n",
       "17  (POLYGON ((159046.1005152024 -474657.636135023...         True   \n",
       "\n",
       "                                         intersection  \n",
       "1   (POLYGON ((156139.6401248095 -440624.691527145...  \n",
       "9   (POLYGON ((143859.8887858134 -419132.018329077...  \n",
       "10  (POLYGON ((155472.5469032949 -438950.195603739...  \n",
       "13  (POLYGON ((159860.915891007 -429657.5653994314...  \n",
       "17  (POLYGON ((151995.0831520737 -442090.945303803...  "
      ]
     },
     "execution_count": 33,
     "metadata": {},
     "output_type": "execute_result"
    }
   ],
   "source": [
    "lahoods.head()"
   ]
  },
  {
   "cell_type": "code",
   "execution_count": 34,
   "metadata": {},
   "outputs": [],
   "source": [
    "lahoods['hood_area'] = lahoods.geometry.area / 2590000"
   ]
  },
  {
   "cell_type": "code",
   "execution_count": 35,
   "metadata": {},
   "outputs": [],
   "source": [
    "lahoods['buffer_area'] = lahoods['intersection'].apply(lambda x: x.area / 2590000)"
   ]
  },
  {
   "cell_type": "code",
   "execution_count": 43,
   "metadata": {},
   "outputs": [],
   "source": [
    "lahoods['pct_of_hood_in_buffer'] = lahoods.buffer_area / lahoods.hood_area"
   ]
  },
  {
   "cell_type": "code",
   "execution_count": 44,
   "metadata": {},
   "outputs": [
    {
     "data": {
      "text/html": [
       "<div>\n",
       "<style scoped>\n",
       "    .dataframe tbody tr th:only-of-type {\n",
       "        vertical-align: middle;\n",
       "    }\n",
       "\n",
       "    .dataframe tbody tr th {\n",
       "        vertical-align: top;\n",
       "    }\n",
       "\n",
       "    .dataframe thead th {\n",
       "        text-align: right;\n",
       "    }\n",
       "</style>\n",
       "<table border=\"1\" class=\"dataframe\">\n",
       "  <thead>\n",
       "    <tr style=\"text-align: right;\">\n",
       "      <th></th>\n",
       "      <th>name</th>\n",
       "      <th>geometry</th>\n",
       "      <th>buffers</th>\n",
       "      <th>hits_buffer</th>\n",
       "      <th>intersection</th>\n",
       "      <th>hood_area</th>\n",
       "      <th>buffer_area</th>\n",
       "      <th>pct_of_hood_in_buffer</th>\n",
       "    </tr>\n",
       "  </thead>\n",
       "  <tbody>\n",
       "    <tr>\n",
       "      <th>92</th>\n",
       "      <td>Hansen Dam</td>\n",
       "      <td>(POLYGON ((150213.0023347829 -414549.544432659...</td>\n",
       "      <td>(POLYGON ((159046.1005152024 -474657.636135023...</td>\n",
       "      <td>True</td>\n",
       "      <td>POLYGON ((150213.0023347829 -414549.5444326596...</td>\n",
       "      <td>1.965736</td>\n",
       "      <td>1.963487</td>\n",
       "      <td>0.998856</td>\n",
       "    </tr>\n",
       "    <tr>\n",
       "      <th>89</th>\n",
       "      <td>Griffith Park</td>\n",
       "      <td>(POLYGON ((156829.1284531329 -427266.164410656...</td>\n",
       "      <td>(POLYGON ((159046.1005152024 -474657.636135023...</td>\n",
       "      <td>True</td>\n",
       "      <td>POLYGON ((156829.1284531329 -427266.1644106563...</td>\n",
       "      <td>5.835412</td>\n",
       "      <td>5.821987</td>\n",
       "      <td>0.997699</td>\n",
       "    </tr>\n",
       "    <tr>\n",
       "      <th>43</th>\n",
       "      <td>Chatsworth Reservoir</td>\n",
       "      <td>(POLYGON ((127015.9155845291 -418723.784172944...</td>\n",
       "      <td>(POLYGON ((159046.1005152024 -474657.636135023...</td>\n",
       "      <td>True</td>\n",
       "      <td>POLYGON ((127015.9155845291 -418723.7841729447...</td>\n",
       "      <td>1.802363</td>\n",
       "      <td>1.795276</td>\n",
       "      <td>0.996068</td>\n",
       "    </tr>\n",
       "    <tr>\n",
       "      <th>74</th>\n",
       "      <td>Elysian Park</td>\n",
       "      <td>(POLYGON ((163782.7920108401 -436433.284509371...</td>\n",
       "      <td>(POLYGON ((159046.1005152024 -474657.636135023...</td>\n",
       "      <td>True</td>\n",
       "      <td>POLYGON ((163782.7920108401 -436433.2845093715...</td>\n",
       "      <td>1.643644</td>\n",
       "      <td>1.617760</td>\n",
       "      <td>0.984252</td>\n",
       "    </tr>\n",
       "    <tr>\n",
       "      <th>200</th>\n",
       "      <td>Sepulveda Basin</td>\n",
       "      <td>(POLYGON ((139744.5472696587 -424348.804661298...</td>\n",
       "      <td>(POLYGON ((159046.1005152024 -474657.636135023...</td>\n",
       "      <td>True</td>\n",
       "      <td>(POLYGON ((139744.6075266991 -424352.572025649...</td>\n",
       "      <td>3.135845</td>\n",
       "      <td>3.006329</td>\n",
       "      <td>0.958698</td>\n",
       "    </tr>\n",
       "    <tr>\n",
       "      <th>163</th>\n",
       "      <td>Pacific Palisades</td>\n",
       "      <td>(POLYGON ((133062.7763281261 -431087.956663263...</td>\n",
       "      <td>(POLYGON ((159046.1005152024 -474657.636135023...</td>\n",
       "      <td>True</td>\n",
       "      <td>(POLYGON ((133062.7763281261 -431087.956663263...</td>\n",
       "      <td>22.844628</td>\n",
       "      <td>19.484301</td>\n",
       "      <td>0.852905</td>\n",
       "    </tr>\n",
       "    <tr>\n",
       "      <th>174</th>\n",
       "      <td>Playa del Rey</td>\n",
       "      <td>(POLYGON ((145269.7889783475 -448444.258408933...</td>\n",
       "      <td>(POLYGON ((159046.1005152024 -474657.636135023...</td>\n",
       "      <td>True</td>\n",
       "      <td>(POLYGON ((145269.7889783475 -448444.258408933...</td>\n",
       "      <td>2.754121</td>\n",
       "      <td>2.047234</td>\n",
       "      <td>0.743335</td>\n",
       "    </tr>\n",
       "    <tr>\n",
       "      <th>54</th>\n",
       "      <td>Cypress Park</td>\n",
       "      <td>(POLYGON ((164341.6049823664 -434749.651390981...</td>\n",
       "      <td>(POLYGON ((159046.1005152024 -474657.636135023...</td>\n",
       "      <td>True</td>\n",
       "      <td>(POLYGON ((164341.6049823664 -434749.651390981...</td>\n",
       "      <td>0.726685</td>\n",
       "      <td>0.500163</td>\n",
       "      <td>0.688279</td>\n",
       "    </tr>\n",
       "    <tr>\n",
       "      <th>151</th>\n",
       "      <td>Montecito Heights</td>\n",
       "      <td>(POLYGON ((168259.3272685921 -432090.137112584...</td>\n",
       "      <td>(POLYGON ((159046.1005152024 -474657.636135023...</td>\n",
       "      <td>True</td>\n",
       "      <td>(POLYGON ((168259.3272685921 -432090.137112584...</td>\n",
       "      <td>2.410771</td>\n",
       "      <td>1.589839</td>\n",
       "      <td>0.659473</td>\n",
       "    </tr>\n",
       "    <tr>\n",
       "      <th>227</th>\n",
       "      <td>Tujunga</td>\n",
       "      <td>(POLYGON ((158369.3319591543 -413867.901065459...</td>\n",
       "      <td>(POLYGON ((159046.1005152024 -474657.636135023...</td>\n",
       "      <td>True</td>\n",
       "      <td>(POLYGON ((158369.3319591543 -413867.901065459...</td>\n",
       "      <td>10.020422</td>\n",
       "      <td>6.601098</td>\n",
       "      <td>0.658764</td>\n",
       "    </tr>\n",
       "    <tr>\n",
       "      <th>104</th>\n",
       "      <td>Hollywood Hills</td>\n",
       "      <td>(POLYGON ((155101.2385091607 -427917.478866358...</td>\n",
       "      <td>(POLYGON ((159046.1005152024 -474657.636135023...</td>\n",
       "      <td>True</td>\n",
       "      <td>(POLYGON ((155101.2385091607 -427917.478866358...</td>\n",
       "      <td>7.051083</td>\n",
       "      <td>4.643485</td>\n",
       "      <td>0.658549</td>\n",
       "    </tr>\n",
       "    <tr>\n",
       "      <th>249</th>\n",
       "      <td>Watts</td>\n",
       "      <td>(POLYGON ((162293.5748314608 -449790.518718350...</td>\n",
       "      <td>(POLYGON ((159046.1005152024 -474657.636135023...</td>\n",
       "      <td>True</td>\n",
       "      <td>(POLYGON ((162293.5748314608 -449790.518718350...</td>\n",
       "      <td>2.121397</td>\n",
       "      <td>1.373194</td>\n",
       "      <td>0.647306</td>\n",
       "    </tr>\n",
       "    <tr>\n",
       "      <th>257</th>\n",
       "      <td>Westlake</td>\n",
       "      <td>(POLYGON ((158709.9269350781 -436196.146341535...</td>\n",
       "      <td>(POLYGON ((159046.1005152024 -474657.636135023...</td>\n",
       "      <td>True</td>\n",
       "      <td>(POLYGON ((159580.4575424944 -436520.473373194...</td>\n",
       "      <td>2.717338</td>\n",
       "      <td>1.675616</td>\n",
       "      <td>0.616639</td>\n",
       "    </tr>\n",
       "    <tr>\n",
       "      <th>201</th>\n",
       "      <td>Shadow Hills</td>\n",
       "      <td>(POLYGON ((152761.5233338528 -414615.502223916...</td>\n",
       "      <td>(POLYGON ((159046.1005152024 -474657.636135023...</td>\n",
       "      <td>True</td>\n",
       "      <td>(POLYGON ((152858.5872104003 -414649.478321895...</td>\n",
       "      <td>12.806059</td>\n",
       "      <td>7.837286</td>\n",
       "      <td>0.611998</td>\n",
       "    </tr>\n",
       "    <tr>\n",
       "      <th>173</th>\n",
       "      <td>Pico-Union</td>\n",
       "      <td>(POLYGON ((157225.9029746909 -438885.587617512...</td>\n",
       "      <td>(POLYGON ((159046.1005152024 -474657.636135023...</td>\n",
       "      <td>True</td>\n",
       "      <td>(POLYGON ((157956.9069593252 -438916.799876119...</td>\n",
       "      <td>1.670386</td>\n",
       "      <td>1.014914</td>\n",
       "      <td>0.607592</td>\n",
       "    </tr>\n",
       "    <tr>\n",
       "      <th>93</th>\n",
       "      <td>Harbor City</td>\n",
       "      <td>(POLYGON ((157351.5721386187 -465393.510194905...</td>\n",
       "      <td>(POLYGON ((159046.1005152024 -474657.636135023...</td>\n",
       "      <td>True</td>\n",
       "      <td>(POLYGON ((157519.8525737304 -466783.235151697...</td>\n",
       "      <td>2.577134</td>\n",
       "      <td>1.561040</td>\n",
       "      <td>0.605727</td>\n",
       "    </tr>\n",
       "    <tr>\n",
       "      <th>75</th>\n",
       "      <td>Elysian Valley</td>\n",
       "      <td>(POLYGON ((163512.6762664516 -434842.852284556...</td>\n",
       "      <td>(POLYGON ((159046.1005152024 -474657.636135023...</td>\n",
       "      <td>True</td>\n",
       "      <td>(POLYGON ((163512.6762664516 -434842.852284556...</td>\n",
       "      <td>0.790691</td>\n",
       "      <td>0.462152</td>\n",
       "      <td>0.584491</td>\n",
       "    </tr>\n",
       "    <tr>\n",
       "      <th>217</th>\n",
       "      <td>Sunland</td>\n",
       "      <td>(POLYGON ((157724.8822803643 -412338.693434744...</td>\n",
       "      <td>(POLYGON ((159046.1005152024 -474657.636135023...</td>\n",
       "      <td>True</td>\n",
       "      <td>(POLYGON ((157724.8822803643 -412338.693434744...</td>\n",
       "      <td>4.006100</td>\n",
       "      <td>2.340412</td>\n",
       "      <td>0.584212</td>\n",
       "    </tr>\n",
       "    <tr>\n",
       "      <th>29</th>\n",
       "      <td>Brentwood</td>\n",
       "      <td>(POLYGON ((139411.6187567703 -430633.988086058...</td>\n",
       "      <td>(POLYGON ((159046.1005152024 -474657.636135023...</td>\n",
       "      <td>True</td>\n",
       "      <td>(POLYGON ((139411.6187567703 -430633.988086058...</td>\n",
       "      <td>15.222228</td>\n",
       "      <td>8.660790</td>\n",
       "      <td>0.568957</td>\n",
       "    </tr>\n",
       "    <tr>\n",
       "      <th>210</th>\n",
       "      <td>South Park</td>\n",
       "      <td>(POLYGON ((161064.6065343088 -444262.830132298...</td>\n",
       "      <td>(POLYGON ((159046.1005152024 -474657.636135023...</td>\n",
       "      <td>True</td>\n",
       "      <td>(POLYGON ((161064.6065343088 -444262.830132298...</td>\n",
       "      <td>1.406809</td>\n",
       "      <td>0.776014</td>\n",
       "      <td>0.551613</td>\n",
       "    </tr>\n",
       "    <tr>\n",
       "      <th>238</th>\n",
       "      <td>Venice</td>\n",
       "      <td>(POLYGON ((143087.0309793225 -448935.115487445...</td>\n",
       "      <td>(POLYGON ((159046.1005152024 -474657.636135023...</td>\n",
       "      <td>True</td>\n",
       "      <td>(POLYGON ((143087.0309793225 -448935.115487445...</td>\n",
       "      <td>3.173891</td>\n",
       "      <td>1.679627</td>\n",
       "      <td>0.529201</td>\n",
       "    </tr>\n",
       "    <tr>\n",
       "      <th>69</th>\n",
       "      <td>Echo Park</td>\n",
       "      <td>(POLYGON ((161644.5125667324 -435143.857840756...</td>\n",
       "      <td>(POLYGON ((159046.1005152024 -474657.636135023...</td>\n",
       "      <td>True</td>\n",
       "      <td>(POLYGON ((161644.5125667324 -435143.857840756...</td>\n",
       "      <td>2.394401</td>\n",
       "      <td>1.236937</td>\n",
       "      <td>0.516596</td>\n",
       "    </tr>\n",
       "    <tr>\n",
       "      <th>23</th>\n",
       "      <td>Beverly Crest</td>\n",
       "      <td>(POLYGON ((142654.6210148489 -430381.961731241...</td>\n",
       "      <td>(POLYGON ((159046.1005152024 -474657.636135023...</td>\n",
       "      <td>True</td>\n",
       "      <td>(POLYGON ((143410.2666181882 -430542.268108024...</td>\n",
       "      <td>8.236458</td>\n",
       "      <td>4.091032</td>\n",
       "      <td>0.496698</td>\n",
       "    </tr>\n",
       "    <tr>\n",
       "      <th>113</th>\n",
       "      <td>Koreatown</td>\n",
       "      <td>(POLYGON ((158101.68279684 -436251.5390238338,...</td>\n",
       "      <td>(POLYGON ((159046.1005152024 -474657.636135023...</td>\n",
       "      <td>True</td>\n",
       "      <td>(POLYGON ((158101.68279684 -436251.5390238338,...</td>\n",
       "      <td>2.704202</td>\n",
       "      <td>1.284510</td>\n",
       "      <td>0.475005</td>\n",
       "    </tr>\n",
       "    <tr>\n",
       "      <th>30</th>\n",
       "      <td>Broadway-Manchester</td>\n",
       "      <td>(POLYGON ((159139.2773116569 -449157.134996029...</td>\n",
       "      <td>(POLYGON ((159046.1005152024 -474657.636135023...</td>\n",
       "      <td>True</td>\n",
       "      <td>(POLYGON ((159139.2773116569 -449157.134996029...</td>\n",
       "      <td>1.560866</td>\n",
       "      <td>0.732395</td>\n",
       "      <td>0.469223</td>\n",
       "    </tr>\n",
       "    <tr>\n",
       "      <th>103</th>\n",
       "      <td>Historic South-Central</td>\n",
       "      <td>(POLYGON ((161062.566701816 -444151.9259735113...</td>\n",
       "      <td>(POLYGON ((159046.1005152024 -474657.636135023...</td>\n",
       "      <td>True</td>\n",
       "      <td>(POLYGON ((161063.8964240947 -444224.221973926...</td>\n",
       "      <td>2.555178</td>\n",
       "      <td>1.191231</td>\n",
       "      <td>0.466203</td>\n",
       "    </tr>\n",
       "    <tr>\n",
       "      <th>87</th>\n",
       "      <td>Green Meadows</td>\n",
       "      <td>(POLYGON ((161200.7655314847 -449107.246786372...</td>\n",
       "      <td>(POLYGON ((159046.1005152024 -474657.636135023...</td>\n",
       "      <td>True</td>\n",
       "      <td>(POLYGON ((161202.565825602 -449230.3747828888...</td>\n",
       "      <td>2.215573</td>\n",
       "      <td>1.011009</td>\n",
       "      <td>0.456319</td>\n",
       "    </tr>\n",
       "    <tr>\n",
       "      <th>240</th>\n",
       "      <td>Vermont-Slauson</td>\n",
       "      <td>(POLYGON ((158850.4963904517 -445468.148482934...</td>\n",
       "      <td>(POLYGON ((159046.1005152024 -474657.636135023...</td>\n",
       "      <td>True</td>\n",
       "      <td>(POLYGON ((158864.2840240787 -445807.173322593...</td>\n",
       "      <td>1.440209</td>\n",
       "      <td>0.655179</td>\n",
       "      <td>0.454919</td>\n",
       "    </tr>\n",
       "    <tr>\n",
       "      <th>46</th>\n",
       "      <td>Chinatown</td>\n",
       "      <td>(POLYGON ((163814.3022571185 -436656.815035051...</td>\n",
       "      <td>(POLYGON ((159046.1005152024 -474657.636135023...</td>\n",
       "      <td>True</td>\n",
       "      <td>(POLYGON ((163814.3022571185 -436656.815035051...</td>\n",
       "      <td>0.906513</td>\n",
       "      <td>0.406668</td>\n",
       "      <td>0.448607</td>\n",
       "    </tr>\n",
       "    <tr>\n",
       "      <th>10</th>\n",
       "      <td>Arlington Heights</td>\n",
       "      <td>(POLYGON ((155472.5469032949 -438950.195603739...</td>\n",
       "      <td>(POLYGON ((159046.1005152024 -474657.636135023...</td>\n",
       "      <td>True</td>\n",
       "      <td>(POLYGON ((155472.5469032949 -438950.195603739...</td>\n",
       "      <td>1.029528</td>\n",
       "      <td>0.457819</td>\n",
       "      <td>0.444688</td>\n",
       "    </tr>\n",
       "    <tr>\n",
       "      <th>...</th>\n",
       "      <td>...</td>\n",
       "      <td>...</td>\n",
       "      <td>...</td>\n",
       "      <td>...</td>\n",
       "      <td>...</td>\n",
       "      <td>...</td>\n",
       "      <td>...</td>\n",
       "      <td>...</td>\n",
       "    </tr>\n",
       "    <tr>\n",
       "      <th>184</th>\n",
       "      <td>Reseda</td>\n",
       "      <td>(POLYGON ((136478.084526547 -420605.7056887066...</td>\n",
       "      <td>(POLYGON ((159046.1005152024 -474657.636135023...</td>\n",
       "      <td>True</td>\n",
       "      <td>(POLYGON ((136478.084526547 -420605.7056887066...</td>\n",
       "      <td>5.858484</td>\n",
       "      <td>1.677242</td>\n",
       "      <td>0.286293</td>\n",
       "    </tr>\n",
       "    <tr>\n",
       "      <th>147</th>\n",
       "      <td>Mid-Wilshire</td>\n",
       "      <td>(POLYGON ((151226.9339839536 -436927.921107615...</td>\n",
       "      <td>(POLYGON ((159046.1005152024 -474657.636135023...</td>\n",
       "      <td>True</td>\n",
       "      <td>(POLYGON ((151359.9031086529 -436948.939361311...</td>\n",
       "      <td>2.786407</td>\n",
       "      <td>0.789034</td>\n",
       "      <td>0.283173</td>\n",
       "    </tr>\n",
       "    <tr>\n",
       "      <th>168</th>\n",
       "      <td>Panorama City</td>\n",
       "      <td>(POLYGON ((144784.511954894 -420316.5974996518...</td>\n",
       "      <td>(POLYGON ((159046.1005152024 -474657.636135023...</td>\n",
       "      <td>True</td>\n",
       "      <td>(POLYGON ((141487.2181574503 -421220.673277113...</td>\n",
       "      <td>3.643861</td>\n",
       "      <td>1.031519</td>\n",
       "      <td>0.283084</td>\n",
       "    </tr>\n",
       "    <tr>\n",
       "      <th>143</th>\n",
       "      <td>Mar Vista</td>\n",
       "      <td>(POLYGON ((145811.8022211516 -443807.872982493...</td>\n",
       "      <td>(POLYGON ((159046.1005152024 -474657.636135023...</td>\n",
       "      <td>True</td>\n",
       "      <td>(POLYGON ((145704.4621455789 -445130.156818457...</td>\n",
       "      <td>2.895500</td>\n",
       "      <td>0.816313</td>\n",
       "      <td>0.281925</td>\n",
       "    </tr>\n",
       "    <tr>\n",
       "      <th>96</th>\n",
       "      <td>Harvard Park</td>\n",
       "      <td>(POLYGON ((157077.2804357167 -447585.769327011...</td>\n",
       "      <td>(POLYGON ((159046.1005152024 -474657.636135023...</td>\n",
       "      <td>True</td>\n",
       "      <td>(POLYGON ((157077.2804357167 -447585.769327011...</td>\n",
       "      <td>0.640226</td>\n",
       "      <td>0.178324</td>\n",
       "      <td>0.278534</td>\n",
       "    </tr>\n",
       "    <tr>\n",
       "      <th>164</th>\n",
       "      <td>Pacoima</td>\n",
       "      <td>(POLYGON ((145896.2068955986 -412451.286044736...</td>\n",
       "      <td>(POLYGON ((159046.1005152024 -474657.636135023...</td>\n",
       "      <td>True</td>\n",
       "      <td>(POLYGON ((146711.0554787363 -413337.169184546...</td>\n",
       "      <td>7.135343</td>\n",
       "      <td>1.968324</td>\n",
       "      <td>0.275856</td>\n",
       "    </tr>\n",
       "    <tr>\n",
       "      <th>60</th>\n",
       "      <td>Downtown</td>\n",
       "      <td>(POLYGON ((162447.8879936185 -438146.713755733...</td>\n",
       "      <td>(POLYGON ((159046.1005152024 -474657.636135023...</td>\n",
       "      <td>True</td>\n",
       "      <td>(POLYGON ((162447.8879936185 -438146.713755733...</td>\n",
       "      <td>5.834864</td>\n",
       "      <td>1.577384</td>\n",
       "      <td>0.270338</td>\n",
       "    </tr>\n",
       "    <tr>\n",
       "      <th>126</th>\n",
       "      <td>Larchmont</td>\n",
       "      <td>(POLYGON ((155715.9683160222 -435506.69374874,...</td>\n",
       "      <td>(POLYGON ((159046.1005152024 -474657.636135023...</td>\n",
       "      <td>True</td>\n",
       "      <td>(POLYGON ((155581.9538160136 -436310.997570712...</td>\n",
       "      <td>0.483013</td>\n",
       "      <td>0.125486</td>\n",
       "      <td>0.259799</td>\n",
       "    </tr>\n",
       "    <tr>\n",
       "      <th>157</th>\n",
       "      <td>North Hollywood</td>\n",
       "      <td>(POLYGON ((147799.1391012987 -422596.223188340...</td>\n",
       "      <td>(POLYGON ((159046.1005152024 -474657.636135023...</td>\n",
       "      <td>True</td>\n",
       "      <td>(POLYGON ((149328.1783855236 -422580.176605343...</td>\n",
       "      <td>5.871226</td>\n",
       "      <td>1.498028</td>\n",
       "      <td>0.255147</td>\n",
       "    </tr>\n",
       "    <tr>\n",
       "      <th>175</th>\n",
       "      <td>Playa Vista</td>\n",
       "      <td>(POLYGON ((147356.255163133 -446220.9907950675...</td>\n",
       "      <td>(POLYGON ((159046.1005152024 -474657.636135023...</td>\n",
       "      <td>True</td>\n",
       "      <td>(POLYGON ((145774.659198014 -448278.5666286915...</td>\n",
       "      <td>1.302580</td>\n",
       "      <td>0.323193</td>\n",
       "      <td>0.248118</td>\n",
       "    </tr>\n",
       "    <tr>\n",
       "      <th>268</th>\n",
       "      <td>Wilmington</td>\n",
       "      <td>(POLYGON ((164359.7194153838 -464081.247474412...</td>\n",
       "      <td>(POLYGON ((159046.1005152024 -474657.636135023...</td>\n",
       "      <td>True</td>\n",
       "      <td>(POLYGON ((158256.2990688285 -471971.184341076...</td>\n",
       "      <td>9.138719</td>\n",
       "      <td>2.120846</td>\n",
       "      <td>0.232073</td>\n",
       "    </tr>\n",
       "    <tr>\n",
       "      <th>33</th>\n",
       "      <td>Canoga Park</td>\n",
       "      <td>(POLYGON ((128670.6821091575 -419114.946085078...</td>\n",
       "      <td>(POLYGON ((159046.1005152024 -474657.636135023...</td>\n",
       "      <td>True</td>\n",
       "      <td>(POLYGON ((130032.5842807594 -419652.834875328...</td>\n",
       "      <td>4.350837</td>\n",
       "      <td>1.001640</td>\n",
       "      <td>0.230218</td>\n",
       "    </tr>\n",
       "    <tr>\n",
       "      <th>140</th>\n",
       "      <td>Manchester Square</td>\n",
       "      <td>(POLYGON ((157077.2804357167 -447585.769327011...</td>\n",
       "      <td>(POLYGON ((159046.1005152024 -474657.636135023...</td>\n",
       "      <td>True</td>\n",
       "      <td>(POLYGON ((157077.2804357167 -447585.769327011...</td>\n",
       "      <td>1.008829</td>\n",
       "      <td>0.223916</td>\n",
       "      <td>0.221957</td>\n",
       "    </tr>\n",
       "    <tr>\n",
       "      <th>218</th>\n",
       "      <td>Sun Valley</td>\n",
       "      <td>(POLYGON ((152689.0134277162 -421824.142767926...</td>\n",
       "      <td>(POLYGON ((159046.1005152024 -474657.636135023...</td>\n",
       "      <td>True</td>\n",
       "      <td>(POLYGON ((152735.1579634764 -421855.610366658...</td>\n",
       "      <td>9.423702</td>\n",
       "      <td>2.079496</td>\n",
       "      <td>0.220667</td>\n",
       "    </tr>\n",
       "    <tr>\n",
       "      <th>148</th>\n",
       "      <td>Mission Hills</td>\n",
       "      <td>(POLYGON ((142165.1149718435 -413934.861095934...</td>\n",
       "      <td>(POLYGON ((159046.1005152024 -474657.636135023...</td>\n",
       "      <td>True</td>\n",
       "      <td>(POLYGON ((142165.1149718435 -413934.861095934...</td>\n",
       "      <td>3.183006</td>\n",
       "      <td>0.698652</td>\n",
       "      <td>0.219494</td>\n",
       "    </tr>\n",
       "    <tr>\n",
       "      <th>94</th>\n",
       "      <td>Harbor Gateway</td>\n",
       "      <td>(POLYGON ((158214.1271485281 -453211.748819151...</td>\n",
       "      <td>(POLYGON ((159046.1005152024 -474657.636135023...</td>\n",
       "      <td>True</td>\n",
       "      <td>(POLYGON ((158999.9470030444 -458972.044450112...</td>\n",
       "      <td>5.145271</td>\n",
       "      <td>1.107779</td>\n",
       "      <td>0.215300</td>\n",
       "    </tr>\n",
       "    <tr>\n",
       "      <th>158</th>\n",
       "      <td>Northridge</td>\n",
       "      <td>(POLYGON ((136911.8264599818 -416526.072216982...</td>\n",
       "      <td>(POLYGON ((159046.1005152024 -474657.636135023...</td>\n",
       "      <td>True</td>\n",
       "      <td>(POLYGON ((136911.8264599818 -416526.072216982...</td>\n",
       "      <td>9.458573</td>\n",
       "      <td>1.994402</td>\n",
       "      <td>0.210856</td>\n",
       "    </tr>\n",
       "    <tr>\n",
       "      <th>270</th>\n",
       "      <td>Winnetka</td>\n",
       "      <td>(POLYGON ((132435.0947540638 -419480.655120315...</td>\n",
       "      <td>(POLYGON ((159046.1005152024 -474657.636135023...</td>\n",
       "      <td>True</td>\n",
       "      <td>(POLYGON ((132446.1385718963 -420103.653898117...</td>\n",
       "      <td>4.781289</td>\n",
       "      <td>1.001108</td>\n",
       "      <td>0.209380</td>\n",
       "    </tr>\n",
       "    <tr>\n",
       "      <th>9</th>\n",
       "      <td>Arleta</td>\n",
       "      <td>(POLYGON ((145361.3096072993 -420096.183241406...</td>\n",
       "      <td>(POLYGON ((159046.1005152024 -474657.636135023...</td>\n",
       "      <td>True</td>\n",
       "      <td>(POLYGON ((143859.8887858134 -419132.018329077...</td>\n",
       "      <td>3.088396</td>\n",
       "      <td>0.632623</td>\n",
       "      <td>0.204839</td>\n",
       "    </tr>\n",
       "    <tr>\n",
       "      <th>91</th>\n",
       "      <td>Hancock Park</td>\n",
       "      <td>(POLYGON ((154452.0313776929 -435540.195174134...</td>\n",
       "      <td>(POLYGON ((159046.1005152024 -474657.636135023...</td>\n",
       "      <td>True</td>\n",
       "      <td>(POLYGON ((154452.0313776929 -435540.195174134...</td>\n",
       "      <td>1.519288</td>\n",
       "      <td>0.291335</td>\n",
       "      <td>0.191758</td>\n",
       "    </tr>\n",
       "    <tr>\n",
       "      <th>237</th>\n",
       "      <td>Van Nuys</td>\n",
       "      <td>(POLYGON ((140667.5702879913 -420505.608292580...</td>\n",
       "      <td>(POLYGON ((159046.1005152024 -474657.636135023...</td>\n",
       "      <td>True</td>\n",
       "      <td>(POLYGON ((141245.7214548216 -420754.299450387...</td>\n",
       "      <td>8.999996</td>\n",
       "      <td>1.700941</td>\n",
       "      <td>0.188994</td>\n",
       "    </tr>\n",
       "    <tr>\n",
       "      <th>26</th>\n",
       "      <td>Beverlywood</td>\n",
       "      <td>(POLYGON ((148669.734383511 -439101.7967959419...</td>\n",
       "      <td>(POLYGON ((159046.1005152024 -474657.636135023...</td>\n",
       "      <td>True</td>\n",
       "      <td>(POLYGON ((148669.734383511 -439101.7967959419...</td>\n",
       "      <td>0.796192</td>\n",
       "      <td>0.145828</td>\n",
       "      <td>0.183157</td>\n",
       "    </tr>\n",
       "    <tr>\n",
       "      <th>182</th>\n",
       "      <td>Rancho Park</td>\n",
       "      <td>(POLYGON ((146381.7626272352 -441362.332022509...</td>\n",
       "      <td>(POLYGON ((159046.1005152024 -474657.636135023...</td>\n",
       "      <td>True</td>\n",
       "      <td>(POLYGON ((146319.3026285502 -441393.551876249...</td>\n",
       "      <td>0.599189</td>\n",
       "      <td>0.097326</td>\n",
       "      <td>0.162429</td>\n",
       "    </tr>\n",
       "    <tr>\n",
       "      <th>252</th>\n",
       "      <td>Westchester</td>\n",
       "      <td>(POLYGON ((151694.918197944 -446734.168550469,...</td>\n",
       "      <td>(POLYGON ((159046.1005152024 -474657.636135023...</td>\n",
       "      <td>True</td>\n",
       "      <td>(POLYGON ((150599.3898397787 -448422.994479440...</td>\n",
       "      <td>10.801717</td>\n",
       "      <td>1.700787</td>\n",
       "      <td>0.157455</td>\n",
       "    </tr>\n",
       "    <tr>\n",
       "      <th>264</th>\n",
       "      <td>Westwood</td>\n",
       "      <td>(POLYGON ((144899.9299268903 -436169.713639631...</td>\n",
       "      <td>(POLYGON ((159046.1005152024 -474657.636135023...</td>\n",
       "      <td>True</td>\n",
       "      <td>(POLYGON ((146085.1149730849 -437178.934165479...</td>\n",
       "      <td>3.673559</td>\n",
       "      <td>0.545988</td>\n",
       "      <td>0.148626</td>\n",
       "    </tr>\n",
       "    <tr>\n",
       "      <th>24</th>\n",
       "      <td>Beverly Grove</td>\n",
       "      <td>(POLYGON ((150186.8599253037 -435365.266105933...</td>\n",
       "      <td>(POLYGON ((159046.1005152024 -474657.636135023...</td>\n",
       "      <td>True</td>\n",
       "      <td>(POLYGON ((150841.5189604799 -435000.565508375...</td>\n",
       "      <td>1.646039</td>\n",
       "      <td>0.229957</td>\n",
       "      <td>0.139703</td>\n",
       "    </tr>\n",
       "    <tr>\n",
       "      <th>259</th>\n",
       "      <td>West Los Angeles</td>\n",
       "      <td>(POLYGON ((144580.0667254615 -440834.458523570...</td>\n",
       "      <td>(POLYGON ((159046.1005152024 -474657.636135023...</td>\n",
       "      <td>True</td>\n",
       "      <td>(POLYGON ((144281.669214257 -440577.880115199,...</td>\n",
       "      <td>1.050255</td>\n",
       "      <td>0.121277</td>\n",
       "      <td>0.115473</td>\n",
       "    </tr>\n",
       "    <tr>\n",
       "      <th>269</th>\n",
       "      <td>Windsor Square</td>\n",
       "      <td>(POLYGON ((155628.8694020646 -436318.065343438...</td>\n",
       "      <td>(POLYGON ((159046.1005152024 -474657.636135023...</td>\n",
       "      <td>True</td>\n",
       "      <td>(POLYGON ((155612.8695812277 -437695.779578649...</td>\n",
       "      <td>0.679523</td>\n",
       "      <td>0.062785</td>\n",
       "      <td>0.092396</td>\n",
       "    </tr>\n",
       "    <tr>\n",
       "      <th>39</th>\n",
       "      <td>Century City</td>\n",
       "      <td>(POLYGON ((146356.3711487991 -437794.914027766...</td>\n",
       "      <td>(POLYGON ((159046.1005152024 -474657.636135023...</td>\n",
       "      <td>True</td>\n",
       "      <td>POLYGON ((146849.3223616552 -439315.0513348473...</td>\n",
       "      <td>0.701697</td>\n",
       "      <td>0.052186</td>\n",
       "      <td>0.074371</td>\n",
       "    </tr>\n",
       "    <tr>\n",
       "      <th>223</th>\n",
       "      <td>Toluca Lake</td>\n",
       "      <td>(POLYGON ((151449.2382287213 -426572.441153108...</td>\n",
       "      <td>(POLYGON ((159046.1005152024 -474657.636135023...</td>\n",
       "      <td>True</td>\n",
       "      <td>(POLYGON ((152532.376748138 -428885.1381045468...</td>\n",
       "      <td>1.216980</td>\n",
       "      <td>0.069292</td>\n",
       "      <td>0.056938</td>\n",
       "    </tr>\n",
       "  </tbody>\n",
       "</table>\n",
       "<p>114 rows × 8 columns</p>\n",
       "</div>"
      ],
      "text/plain": [
       "                     name                                           geometry  \\\n",
       "92             Hansen Dam  (POLYGON ((150213.0023347829 -414549.544432659...   \n",
       "89          Griffith Park  (POLYGON ((156829.1284531329 -427266.164410656...   \n",
       "43   Chatsworth Reservoir  (POLYGON ((127015.9155845291 -418723.784172944...   \n",
       "74           Elysian Park  (POLYGON ((163782.7920108401 -436433.284509371...   \n",
       "200       Sepulveda Basin  (POLYGON ((139744.5472696587 -424348.804661298...   \n",
       "..                    ...                                                ...   \n",
       "24          Beverly Grove  (POLYGON ((150186.8599253037 -435365.266105933...   \n",
       "259      West Los Angeles  (POLYGON ((144580.0667254615 -440834.458523570...   \n",
       "269        Windsor Square  (POLYGON ((155628.8694020646 -436318.065343438...   \n",
       "39           Century City  (POLYGON ((146356.3711487991 -437794.914027766...   \n",
       "223           Toluca Lake  (POLYGON ((151449.2382287213 -426572.441153108...   \n",
       "\n",
       "                                               buffers  hits_buffer  \\\n",
       "92   (POLYGON ((159046.1005152024 -474657.636135023...         True   \n",
       "89   (POLYGON ((159046.1005152024 -474657.636135023...         True   \n",
       "43   (POLYGON ((159046.1005152024 -474657.636135023...         True   \n",
       "74   (POLYGON ((159046.1005152024 -474657.636135023...         True   \n",
       "200  (POLYGON ((159046.1005152024 -474657.636135023...         True   \n",
       "..                                                 ...          ...   \n",
       "24   (POLYGON ((159046.1005152024 -474657.636135023...         True   \n",
       "259  (POLYGON ((159046.1005152024 -474657.636135023...         True   \n",
       "269  (POLYGON ((159046.1005152024 -474657.636135023...         True   \n",
       "39   (POLYGON ((159046.1005152024 -474657.636135023...         True   \n",
       "223  (POLYGON ((159046.1005152024 -474657.636135023...         True   \n",
       "\n",
       "                                          intersection  hood_area  \\\n",
       "92   POLYGON ((150213.0023347829 -414549.5444326596...   1.965736   \n",
       "89   POLYGON ((156829.1284531329 -427266.1644106563...   5.835412   \n",
       "43   POLYGON ((127015.9155845291 -418723.7841729447...   1.802363   \n",
       "74   POLYGON ((163782.7920108401 -436433.2845093715...   1.643644   \n",
       "200  (POLYGON ((139744.6075266991 -424352.572025649...   3.135845   \n",
       "..                                                 ...        ...   \n",
       "24   (POLYGON ((150841.5189604799 -435000.565508375...   1.646039   \n",
       "259  (POLYGON ((144281.669214257 -440577.880115199,...   1.050255   \n",
       "269  (POLYGON ((155612.8695812277 -437695.779578649...   0.679523   \n",
       "39   POLYGON ((146849.3223616552 -439315.0513348473...   0.701697   \n",
       "223  (POLYGON ((152532.376748138 -428885.1381045468...   1.216980   \n",
       "\n",
       "     buffer_area  pct_of_hood_in_buffer  \n",
       "92      1.963487               0.998856  \n",
       "89      5.821987               0.997699  \n",
       "43      1.795276               0.996068  \n",
       "74      1.617760               0.984252  \n",
       "200     3.006329               0.958698  \n",
       "..           ...                    ...  \n",
       "24      0.229957               0.139703  \n",
       "259     0.121277               0.115473  \n",
       "269     0.062785               0.092396  \n",
       "39      0.052186               0.074371  \n",
       "223     0.069292               0.056938  \n",
       "\n",
       "[114 rows x 8 columns]"
      ]
     },
     "execution_count": 44,
     "metadata": {},
     "output_type": "execute_result"
    }
   ],
   "source": [
    "lahoods.sort_values('pct_of_hood_in_buffer', ascending=False)"
   ]
  },
  {
   "cell_type": "code",
   "execution_count": 45,
   "metadata": {},
   "outputs": [],
   "source": [
    "intersection_gdf = gpd.GeoDataFrame(lahoods[['name','intersection', 'pct_of_hood_in_buffer']], geometry = 'intersection')"
   ]
  },
  {
   "cell_type": "code",
   "execution_count": null,
   "metadata": {},
   "outputs": [],
   "source": []
  },
  {
   "cell_type": "code",
   "execution_count": 46,
   "metadata": {},
   "outputs": [],
   "source": [
    "# intersection_gdf.to_crs({'init' :'epsg:3310'}, inplace=True)\n",
    "# allbuffers.to_crs({'init' :'epsg:3310'}, inplace=True)"
   ]
  },
  {
   "cell_type": "code",
   "execution_count": null,
   "metadata": {},
   "outputs": [],
   "source": []
  },
  {
   "cell_type": "markdown",
   "metadata": {},
   "source": [
    "### Reproject for web mapping"
   ]
  },
  {
   "cell_type": "code",
   "execution_count": 48,
   "metadata": {},
   "outputs": [
    {
     "ename": "ValueError",
     "evalue": "Cannot transform naive geometries.  Please set a crs on the object first.",
     "output_type": "error",
     "traceback": [
      "\u001b[0;31m---------------------------------------------------------------------------\u001b[0m",
      "\u001b[0;31mValueError\u001b[0m                                Traceback (most recent call last)",
      "\u001b[0;32m<ipython-input-48-9b2a8636df55>\u001b[0m in \u001b[0;36m<module>\u001b[0;34m\u001b[0m\n\u001b[0;32m----> 1\u001b[0;31m \u001b[0mintersection_gdf\u001b[0m\u001b[0;34m.\u001b[0m\u001b[0mto_crs\u001b[0m\u001b[0;34m(\u001b[0m\u001b[0;34m{\u001b[0m\u001b[0;34m'init'\u001b[0m \u001b[0;34m:\u001b[0m\u001b[0;34m'epsg:3310'\u001b[0m\u001b[0;34m}\u001b[0m\u001b[0;34m,\u001b[0m \u001b[0minplace\u001b[0m\u001b[0;34m=\u001b[0m\u001b[0;32mTrue\u001b[0m\u001b[0;34m)\u001b[0m\u001b[0;34m\u001b[0m\u001b[0m\n\u001b[0m\u001b[1;32m      2\u001b[0m \u001b[0mallbuffers\u001b[0m\u001b[0;34m.\u001b[0m\u001b[0mto_crs\u001b[0m\u001b[0;34m(\u001b[0m\u001b[0;34m{\u001b[0m\u001b[0;34m'init'\u001b[0m \u001b[0;34m:\u001b[0m\u001b[0;34m'epsg:3310'\u001b[0m\u001b[0;34m}\u001b[0m\u001b[0;34m,\u001b[0m \u001b[0minplace\u001b[0m\u001b[0;34m=\u001b[0m\u001b[0;32mTrue\u001b[0m\u001b[0;34m)\u001b[0m\u001b[0;34m\u001b[0m\u001b[0m\n",
      "\u001b[0;32m~/.virtualenvs/twitter/lib/python3.6/site-packages/geopandas/geodataframe.py\u001b[0m in \u001b[0;36mto_crs\u001b[0;34m(self, crs, epsg, inplace)\u001b[0m\n\u001b[1;32m    457\u001b[0m         \u001b[0;32melse\u001b[0m\u001b[0;34m:\u001b[0m\u001b[0;34m\u001b[0m\u001b[0m\n\u001b[1;32m    458\u001b[0m             \u001b[0mdf\u001b[0m \u001b[0;34m=\u001b[0m \u001b[0mself\u001b[0m\u001b[0;34m.\u001b[0m\u001b[0mcopy\u001b[0m\u001b[0;34m(\u001b[0m\u001b[0;34m)\u001b[0m\u001b[0;34m\u001b[0m\u001b[0m\n\u001b[0;32m--> 459\u001b[0;31m         \u001b[0mgeom\u001b[0m \u001b[0;34m=\u001b[0m \u001b[0mdf\u001b[0m\u001b[0;34m.\u001b[0m\u001b[0mgeometry\u001b[0m\u001b[0;34m.\u001b[0m\u001b[0mto_crs\u001b[0m\u001b[0;34m(\u001b[0m\u001b[0mcrs\u001b[0m\u001b[0;34m=\u001b[0m\u001b[0mcrs\u001b[0m\u001b[0;34m,\u001b[0m \u001b[0mepsg\u001b[0m\u001b[0;34m=\u001b[0m\u001b[0mepsg\u001b[0m\u001b[0;34m)\u001b[0m\u001b[0;34m\u001b[0m\u001b[0m\n\u001b[0m\u001b[1;32m    460\u001b[0m         \u001b[0mdf\u001b[0m\u001b[0;34m.\u001b[0m\u001b[0mgeometry\u001b[0m \u001b[0;34m=\u001b[0m \u001b[0mgeom\u001b[0m\u001b[0;34m\u001b[0m\u001b[0m\n\u001b[1;32m    461\u001b[0m         \u001b[0mdf\u001b[0m\u001b[0;34m.\u001b[0m\u001b[0mcrs\u001b[0m \u001b[0;34m=\u001b[0m \u001b[0mgeom\u001b[0m\u001b[0;34m.\u001b[0m\u001b[0mcrs\u001b[0m\u001b[0;34m\u001b[0m\u001b[0m\n",
      "\u001b[0;32m~/.virtualenvs/twitter/lib/python3.6/site-packages/geopandas/geoseries.py\u001b[0m in \u001b[0;36mto_crs\u001b[0;34m(self, crs, epsg)\u001b[0m\n\u001b[1;32m    295\u001b[0m         \u001b[0;32mfrom\u001b[0m \u001b[0mfiona\u001b[0m\u001b[0;34m.\u001b[0m\u001b[0mcrs\u001b[0m \u001b[0;32mimport\u001b[0m \u001b[0mfrom_epsg\u001b[0m\u001b[0;34m\u001b[0m\u001b[0m\n\u001b[1;32m    296\u001b[0m         \u001b[0;32mif\u001b[0m \u001b[0mself\u001b[0m\u001b[0;34m.\u001b[0m\u001b[0mcrs\u001b[0m \u001b[0;32mis\u001b[0m \u001b[0;32mNone\u001b[0m\u001b[0;34m:\u001b[0m\u001b[0;34m\u001b[0m\u001b[0m\n\u001b[0;32m--> 297\u001b[0;31m             raise ValueError('Cannot transform naive geometries.  '\n\u001b[0m\u001b[1;32m    298\u001b[0m                              'Please set a crs on the object first.')\n\u001b[1;32m    299\u001b[0m         \u001b[0;32mif\u001b[0m \u001b[0mcrs\u001b[0m \u001b[0;32mis\u001b[0m \u001b[0;32mNone\u001b[0m\u001b[0;34m:\u001b[0m\u001b[0;34m\u001b[0m\u001b[0m\n",
      "\u001b[0;31mValueError\u001b[0m: Cannot transform naive geometries.  Please set a crs on the object first."
     ]
    }
   ],
   "source": [
    "intersection_gdf.to_crs({'init' :'epsg:3310'}, inplace=True)\n",
    "allbuffers.to_crs({'init' :'epsg:3310'}, inplace=True)"
   ]
  },
  {
   "cell_type": "code",
   "execution_count": null,
   "metadata": {},
   "outputs": [],
   "source": [
    "intersection_gdf.crs"
   ]
  },
  {
   "cell_type": "markdown",
   "metadata": {},
   "source": [
    "### Export spatial file to json file"
   ]
  },
  {
   "cell_type": "code",
   "execution_count": null,
   "metadata": {},
   "outputs": [],
   "source": [
    "intersection_gdf.to_file('buffered/buffers-by-hood.geojson', driver='GeoJSON')\n",
    "allbuffers.to_file('buffered/combined-buffers.geojson', driver='GeoJSON')"
   ]
  },
  {
   "cell_type": "markdown",
   "metadata": {},
   "source": [
    "### Export CSV for reporting on neighborhoods"
   ]
  },
  {
   "cell_type": "code",
   "execution_count": null,
   "metadata": {},
   "outputs": [],
   "source": [
    "export_hood_pct_table = pd.DataFrame(lahoods[['name','hood_area', 'buffer_area','pct_of_hood_in_buffer']]).sort_values('pct_of_hood_in_buffer', ascending=False)"
   ]
  },
  {
   "cell_type": "code",
   "execution_count": null,
   "metadata": {},
   "outputs": [],
   "source": [
    "export_hood_pct_table.to_csv('buffered/hood-breakdown.csv')"
   ]
  },
  {
   "cell_type": "markdown",
   "metadata": {},
   "source": [
    "### Create mdtiles for Mapbox\n",
    "\n",
    "`tippecanoe -o buffers-by-hood.mbtiles -zg -pt --coalesce-densest-as-needed --extend-zooms-if-still-dropping --generate-ids --projection=EPSG:4326 buffers-by-hood.geojson`"
   ]
  },
  {
   "cell_type": "code",
   "execution_count": null,
   "metadata": {},
   "outputs": [],
   "source": []
  },
  {
   "cell_type": "code",
   "execution_count": null,
   "metadata": {},
   "outputs": [],
   "source": []
  },
  {
   "cell_type": "code",
   "execution_count": null,
   "metadata": {},
   "outputs": [],
   "source": []
  }
 ],
 "metadata": {
  "kernelspec": {
   "display_name": "Python 3",
   "language": "python",
   "name": "python3"
  },
  "language_info": {
   "codemirror_mode": {
    "name": "ipython",
    "version": 3
   },
   "file_extension": ".py",
   "mimetype": "text/x-python",
   "name": "python",
   "nbconvert_exporter": "python",
   "pygments_lexer": "ipython3",
   "version": "3.6.3rc1"
  }
 },
 "nbformat": 4,
 "nbformat_minor": 2
}
